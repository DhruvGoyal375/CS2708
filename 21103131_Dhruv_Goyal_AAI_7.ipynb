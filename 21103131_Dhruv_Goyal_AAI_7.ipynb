{
 "cells": [
  {
   "cell_type": "code",
   "execution_count": null,
   "id": "ef8af4a9",
   "metadata": {},
   "outputs": [],
   "source": [
    "import numpy as np\n",
    "np.random.seed(42)"
   ]
  },
  {
   "cell_type": "code",
   "execution_count": 2,
   "id": "add179ba",
   "metadata": {},
   "outputs": [],
   "source": [
    "class HiddenMarkovModel:\n",
    "    def __init__(self, n_states, n_observations):\n",
    "        self.n_states = n_states\n",
    "        self.n_observations = n_observations\n",
    "        \n",
    "        self.A = np.random.dirichlet(np.ones(n_states), size=n_states)\n",
    "        \n",
    "        self.B = np.random.dirichlet(np.ones(n_observations), size=n_states)\n",
    "        \n",
    "        self.pi = np.random.dirichlet(np.ones(n_states))\n",
    "    \n",
    "    def generate_sequence(self, length):\n",
    "        states = np.zeros(length, dtype=int)\n",
    "        observations = np.zeros(length, dtype=int)\n",
    "        \n",
    "        states[0] = np.random.choice(self.n_states, p=self.pi)\n",
    "        observations[0] = np.random.choice(self.n_observations, p=self.B[states[0]])\n",
    "        \n",
    "        for t in range(1, length):\n",
    "            states[t] = np.random.choice(self.n_states, p=self.A[states[t-1]])\n",
    "            observations[t] = np.random.choice(self.n_observations, p=self.B[states[t]])\n",
    "            \n",
    "        return states, observations\n",
    "    \n",
    "    def forward_algorithm(self, observations):\n",
    "        T = len(observations)\n",
    "        alpha = np.zeros((T, self.n_states))\n",
    "        \n",
    "        alpha[0] = self.pi * self.B[:, observations[0]]\n",
    "        \n",
    "        # Forward recursion\n",
    "        for t in range(1, T):\n",
    "            for j in range(self.n_states):\n",
    "                alpha[t, j] = self.B[j, observations[t]] * np.sum(alpha[t-1] * self.A[:, j])\n",
    "                \n",
    "        return alpha\n",
    "    \n",
    "    def viterbi_algorithm(self, observations):\n",
    "        T = len(observations)\n",
    "        delta = np.zeros((T, self.n_states))\n",
    "        psi = np.zeros((T, self.n_states), dtype=int)\n",
    "        \n",
    "        delta[0] = self.pi * self.B[:, observations[0]]\n",
    "        \n",
    "        for t in range(1, T):\n",
    "            for j in range(self.n_states):\n",
    "                temp = delta[t-1] * self.A[:, j]\n",
    "                delta[t, j] = np.max(temp) * self.B[j, observations[t]]\n",
    "                psi[t, j] = np.argmax(temp)\n",
    "        \n",
    "        states = np.zeros(T, dtype=int)\n",
    "        states[-1] = np.argmax(delta[-1])\n",
    "        for t in range(T-2, -1, -1):\n",
    "            states[t] = psi[t+1, states[t+1]]\n",
    "            \n",
    "        return states"
   ]
  },
  {
   "cell_type": "code",
   "execution_count": 3,
   "id": "e91312aa",
   "metadata": {},
   "outputs": [],
   "source": [
    "n_states = 2\n",
    "n_observations = 3\n",
    "sequence_length = 100\n",
    "\n",
    "hmm = HiddenMarkovModel(n_states, n_observations)\n",
    "\n",
    "true_states, observations = hmm.generate_sequence(sequence_length)\n",
    "\n",
    "predicted_states = hmm.viterbi_algorithm(observations)\n",
    "\n",
    "accuracy = np.mean(true_states == predicted_states)"
   ]
  },
  {
   "cell_type": "code",
   "execution_count": 4,
   "id": "bd87cd1b",
   "metadata": {},
   "outputs": [
    {
     "name": "stdout",
     "output_type": "stream",
     "text": [
      "Model Parameters:\n",
      "\n",
      "Transition Matrix (A):\n",
      "[[0.13487081 0.86512919]\n",
      " [0.59055148 0.40944852]]\n",
      "\n",
      "Emission Matrix (B):\n",
      "[[0.42506114 0.42498953 0.14994933]\n",
      " [0.48328737 0.22085023 0.29586241]]\n",
      "\n",
      "Initial State Distribution (π):\n",
      "[0.00590159 0.99409841]\n",
      "\n",
      "Prediction Accuracy: 63.00%\n",
      "\n",
      "First 10 predictions:\n",
      "True states:       [1 0 1 0 1 0 1 0 1 1]\n",
      "Predicted states:  [1 0 1 0 1 0 1 0 1 0]\n"
     ]
    }
   ],
   "source": [
    "print(f\"Model Parameters:\")\n",
    "print(\"\\nTransition Matrix (A):\")\n",
    "print(hmm.A)\n",
    "print(\"\\nEmission Matrix (B):\")\n",
    "print(hmm.B)\n",
    "print(\"\\nInitial State Distribution (π):\")\n",
    "print(hmm.pi)\n",
    "print(f\"\\nPrediction Accuracy: {accuracy:.2%}\")\n",
    "\n",
    "print(\"\\nFirst 10 predictions:\")\n",
    "print(\"True states:      \", true_states[:10])\n",
    "print(\"Predicted states: \", predicted_states[:10])"
   ]
  },
  {
   "cell_type": "code",
   "execution_count": null,
   "id": "58ae279a",
   "metadata": {},
   "outputs": [],
   "source": []
  }
 ],
 "metadata": {
  "kernelspec": {
   "display_name": "torch",
   "language": "python",
   "name": "python3"
  },
  "language_info": {
   "codemirror_mode": {
    "name": "ipython",
    "version": 3
   },
   "file_extension": ".py",
   "mimetype": "text/x-python",
   "name": "python",
   "nbconvert_exporter": "python",
   "pygments_lexer": "ipython3",
   "version": "3.9.0"
  }
 },
 "nbformat": 4,
 "nbformat_minor": 5
}
