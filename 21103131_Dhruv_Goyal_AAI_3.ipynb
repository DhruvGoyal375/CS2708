{
 "cells": [
  {
   "cell_type": "code",
   "execution_count": 1,
   "id": "fd379e21-cc95-49d0-b2bb-75c94a0ff8e8",
   "metadata": {},
   "outputs": [],
   "source": [
    "import numpy as np\n",
    "import pandas as pd\n",
    "import networkx as nx\n",
    "import matplotlib.pyplot as plt\n",
    "from pgmpy.models import BayesianNetwork\n",
    "from pgmpy.inference import VariableElimination\n",
    "from pgmpy.estimators import MaximumLikelihoodEstimator"
   ]
  },
  {
   "cell_type": "markdown",
   "id": "92f973cd",
   "metadata": {},
   "source": [
    "## Using the Cleaned Dataset from Previous Assignment"
   ]
  },
  {
   "cell_type": "code",
   "execution_count": 2,
   "id": "fbfab329-6062-4a7f-b02b-e7da905d50e0",
   "metadata": {},
   "outputs": [],
   "source": [
    "df = pd.read_csv(r\"C:\\Users\\Dhruv\\Downloads\\diabetes_cleaned.csv\")"
   ]
  },
  {
   "cell_type": "code",
   "execution_count": 3,
   "id": "eb2f036d",
   "metadata": {},
   "outputs": [
    {
     "data": {
      "text/html": [
       "<div>\n",
       "<style scoped>\n",
       "    .dataframe tbody tr th:only-of-type {\n",
       "        vertical-align: middle;\n",
       "    }\n",
       "\n",
       "    .dataframe tbody tr th {\n",
       "        vertical-align: top;\n",
       "    }\n",
       "\n",
       "    .dataframe thead th {\n",
       "        text-align: right;\n",
       "    }\n",
       "</style>\n",
       "<table border=\"1\" class=\"dataframe\">\n",
       "  <thead>\n",
       "    <tr style=\"text-align: right;\">\n",
       "      <th></th>\n",
       "      <th>Pregnancies</th>\n",
       "      <th>Glucose</th>\n",
       "      <th>BloodPressure</th>\n",
       "      <th>SkinThickness</th>\n",
       "      <th>Insulin</th>\n",
       "      <th>BMI</th>\n",
       "      <th>DiabetesPedigreeFunction</th>\n",
       "      <th>Age</th>\n",
       "      <th>Outcome</th>\n",
       "    </tr>\n",
       "  </thead>\n",
       "  <tbody>\n",
       "    <tr>\n",
       "      <th>count</th>\n",
       "      <td>7.110000e+02</td>\n",
       "      <td>711.000000</td>\n",
       "      <td>711.000000</td>\n",
       "      <td>711.000000</td>\n",
       "      <td>7.110000e+02</td>\n",
       "      <td>711.000000</td>\n",
       "      <td>711.000000</td>\n",
       "      <td>711.000000</td>\n",
       "      <td>711.000000</td>\n",
       "    </tr>\n",
       "    <tr>\n",
       "      <th>mean</th>\n",
       "      <td>3.880450e+00</td>\n",
       "      <td>121.579466</td>\n",
       "      <td>72.216596</td>\n",
       "      <td>21.198312</td>\n",
       "      <td>8.472996e+01</td>\n",
       "      <td>32.231927</td>\n",
       "      <td>0.471821</td>\n",
       "      <td>33.355837</td>\n",
       "      <td>0.338959</td>\n",
       "    </tr>\n",
       "    <tr>\n",
       "      <th>std</th>\n",
       "      <td>3.353123e+00</td>\n",
       "      <td>30.520629</td>\n",
       "      <td>11.564068</td>\n",
       "      <td>15.337106</td>\n",
       "      <td>1.175142e+02</td>\n",
       "      <td>6.484079</td>\n",
       "      <td>0.325855</td>\n",
       "      <td>11.755069</td>\n",
       "      <td>0.473689</td>\n",
       "    </tr>\n",
       "    <tr>\n",
       "      <th>min</th>\n",
       "      <td>1.000000e-09</td>\n",
       "      <td>44.000000</td>\n",
       "      <td>38.000000</td>\n",
       "      <td>0.000000</td>\n",
       "      <td>1.000000e-09</td>\n",
       "      <td>18.200000</td>\n",
       "      <td>0.078000</td>\n",
       "      <td>21.000000</td>\n",
       "      <td>0.000000</td>\n",
       "    </tr>\n",
       "    <tr>\n",
       "      <th>25%</th>\n",
       "      <td>1.000000e+00</td>\n",
       "      <td>99.500000</td>\n",
       "      <td>64.000000</td>\n",
       "      <td>0.000000</td>\n",
       "      <td>1.000000e-09</td>\n",
       "      <td>27.400000</td>\n",
       "      <td>0.245000</td>\n",
       "      <td>24.000000</td>\n",
       "      <td>0.000000</td>\n",
       "    </tr>\n",
       "    <tr>\n",
       "      <th>50%</th>\n",
       "      <td>3.000000e+00</td>\n",
       "      <td>117.000000</td>\n",
       "      <td>72.000000</td>\n",
       "      <td>24.000000</td>\n",
       "      <td>4.800000e+01</td>\n",
       "      <td>32.200000</td>\n",
       "      <td>0.378000</td>\n",
       "      <td>29.000000</td>\n",
       "      <td>0.000000</td>\n",
       "    </tr>\n",
       "    <tr>\n",
       "      <th>75%</th>\n",
       "      <td>6.000000e+00</td>\n",
       "      <td>141.000000</td>\n",
       "      <td>80.000000</td>\n",
       "      <td>33.000000</td>\n",
       "      <td>1.320000e+02</td>\n",
       "      <td>36.500000</td>\n",
       "      <td>0.625000</td>\n",
       "      <td>41.000000</td>\n",
       "      <td>1.000000</td>\n",
       "    </tr>\n",
       "    <tr>\n",
       "      <th>max</th>\n",
       "      <td>1.700000e+01</td>\n",
       "      <td>199.000000</td>\n",
       "      <td>108.000000</td>\n",
       "      <td>60.000000</td>\n",
       "      <td>8.460000e+02</td>\n",
       "      <td>52.300000</td>\n",
       "      <td>2.329000</td>\n",
       "      <td>81.000000</td>\n",
       "      <td>1.000000</td>\n",
       "    </tr>\n",
       "  </tbody>\n",
       "</table>\n",
       "</div>"
      ],
      "text/plain": [
       "        Pregnancies     Glucose  BloodPressure  SkinThickness       Insulin  \\\n",
       "count  7.110000e+02  711.000000     711.000000     711.000000  7.110000e+02   \n",
       "mean   3.880450e+00  121.579466      72.216596      21.198312  8.472996e+01   \n",
       "std    3.353123e+00   30.520629      11.564068      15.337106  1.175142e+02   \n",
       "min    1.000000e-09   44.000000      38.000000       0.000000  1.000000e-09   \n",
       "25%    1.000000e+00   99.500000      64.000000       0.000000  1.000000e-09   \n",
       "50%    3.000000e+00  117.000000      72.000000      24.000000  4.800000e+01   \n",
       "75%    6.000000e+00  141.000000      80.000000      33.000000  1.320000e+02   \n",
       "max    1.700000e+01  199.000000     108.000000      60.000000  8.460000e+02   \n",
       "\n",
       "              BMI  DiabetesPedigreeFunction         Age     Outcome  \n",
       "count  711.000000                711.000000  711.000000  711.000000  \n",
       "mean    32.231927                  0.471821   33.355837    0.338959  \n",
       "std      6.484079                  0.325855   11.755069    0.473689  \n",
       "min     18.200000                  0.078000   21.000000    0.000000  \n",
       "25%     27.400000                  0.245000   24.000000    0.000000  \n",
       "50%     32.200000                  0.378000   29.000000    0.000000  \n",
       "75%     36.500000                  0.625000   41.000000    1.000000  \n",
       "max     52.300000                  2.329000   81.000000    1.000000  "
      ]
     },
     "execution_count": 3,
     "metadata": {},
     "output_type": "execute_result"
    }
   ],
   "source": [
    "df.describe()"
   ]
  },
  {
   "cell_type": "code",
   "execution_count": 4,
   "id": "98ed57be",
   "metadata": {},
   "outputs": [
    {
     "name": "stdout",
     "output_type": "stream",
     "text": [
      "Index                        132\n",
      "Pregnancies                 5688\n",
      "Glucose                     5688\n",
      "BloodPressure               5688\n",
      "SkinThickness               5688\n",
      "Insulin                     5688\n",
      "BMI                         5688\n",
      "DiabetesPedigreeFunction    5688\n",
      "Age                         5688\n",
      "Outcome                     5688\n",
      "dtype: int64\n"
     ]
    }
   ],
   "source": [
    "print(df.memory_usage(deep=True))"
   ]
  },
  {
   "cell_type": "code",
   "execution_count": 13,
   "id": "d43bb22d",
   "metadata": {},
   "outputs": [
    {
     "name": "stdout",
     "output_type": "stream",
     "text": [
      "Pregnancies                 float64\n",
      "Glucose                     float64\n",
      "BloodPressure               float64\n",
      "SkinThickness                 int64\n",
      "Insulin                     float64\n",
      "BMI                         float64\n",
      "DiabetesPedigreeFunction    float64\n",
      "Age                         float64\n",
      "Outcome                       int64\n",
      "dtype: object\n"
     ]
    }
   ],
   "source": [
    "print(df.dtypes)"
   ]
  },
  {
   "cell_type": "markdown",
   "id": "0f3ae36b",
   "metadata": {},
   "source": [
    "## Downcasting Values to Reduce Overall Storage in RAM"
   ]
  },
  {
   "cell_type": "code",
   "execution_count": 5,
   "id": "f677f62f",
   "metadata": {},
   "outputs": [],
   "source": [
    "for col in df.select_dtypes(include=['int']).columns:\n",
    "    df[col] = pd.to_numeric(df[col], downcast='integer')  # It will convert int64 -> int8"
   ]
  },
  {
   "cell_type": "code",
   "execution_count": 6,
   "id": "e6b8d046",
   "metadata": {},
   "outputs": [],
   "source": [
    "for col in df.select_dtypes(include=['float']).columns:\n",
    "    df[col] = pd.to_numeric(df[col], downcast='float') # It will convert float64 -> float32"
   ]
  },
  {
   "cell_type": "markdown",
   "id": "0bc0be80",
   "metadata": {},
   "source": [
    "## Implementing Bayesian Network"
   ]
  },
  {
   "cell_type": "code",
   "execution_count": 7,
   "id": "309ed898",
   "metadata": {},
   "outputs": [],
   "source": [
    "model = BayesianNetwork([('Outcome','Pregnancies'),('Outcome','BloodPressure'),('Outcome','SkinThickness'),('Outcome','Insulin'),\\\n",
    "                         ('Glucose','Outcome'),('BMI','Outcome'),('DiabetesPedigreeFunction','Outcome'),('Age','Outcome')])"
   ]
  },
  {
   "cell_type": "code",
   "execution_count": 9,
   "id": "f09f318c",
   "metadata": {},
   "outputs": [
    {
     "data": {
      "image/png": "[encoded data removed]",
      "text/plain": [
       "<Figure size 1000x800 with 1 Axes>"
      ]
     },
     "metadata": {},
     "output_type": "display_data"
    }
   ],
   "source": [
    "G = nx.DiGraph()\n",
    "G.add_edges_from(model.edges())\n",
    "\n",
    "plt.figure(figsize=(10, 8))\n",
    "pos = nx.spring_layout(G, seed=42)\n",
    "nx.draw(G, pos, with_labels=True, node_size=2000, node_color='lightblue', font_size=10, font_weight='bold', edge_color='gray')\n",
    "plt.title(\"Bayesian Network\")\n",
    "plt.show()"
   ]
  },
  {
   "cell_type": "code",
   "execution_count": 8,
   "id": "ca014cd8",
   "metadata": {},
   "outputs": [],
   "source": [
    "sample_df = df.sample(frac=0.1, random_state=42)   #took only subset(10%) of data due to low hardware resources\n",
    "model.fit(sample_df, estimator=MaximumLikelihoodEstimator, n_jobs=-1)"
   ]
  },
  {
   "cell_type": "markdown",
   "id": "c48dc6fd",
   "metadata": {},
   "source": [
    "## Inferencing Bayesian Model"
   ]
  },
  {
   "cell_type": "code",
   "execution_count": 10,
   "id": "b951cd66",
   "metadata": {},
   "outputs": [],
   "source": [
    "HeartDiseasetest_infer = VariableElimination(model)"
   ]
  },
  {
   "cell_type": "code",
   "execution_count": 11,
   "id": "6be6c2f0",
   "metadata": {},
   "outputs": [],
   "source": [
    "q1=HeartDiseasetest_infer.query(variables=['Outcome'],evidence={'Age':41})"
   ]
  },
  {
   "cell_type": "code",
   "execution_count": 12,
   "id": "832896a6",
   "metadata": {},
   "outputs": [
    {
     "name": "stdout",
     "output_type": "stream",
     "text": [
      "+------------+----------------+\n",
      "| Outcome    |   phi(Outcome) |\n",
      "+============+================+\n",
      "| Outcome(0) |         0.5000 |\n",
      "+------------+----------------+\n",
      "| Outcome(1) |         0.5000 |\n",
      "+------------+----------------+\n"
     ]
    }
   ],
   "source": [
    "print(q1)"
   ]
  },
  {
   "cell_type": "code",
   "execution_count": 14,
   "id": "438d3db1",
   "metadata": {},
   "outputs": [],
   "source": [
    "q2=HeartDiseasetest_infer.query(variables=['BloodPressure'],evidence={'Outcome':1})"
   ]
  },
  {
   "cell_type": "code",
   "execution_count": 16,
   "id": "fa4bb4bd",
   "metadata": {},
   "outputs": [
    {
     "name": "stdout",
     "output_type": "stream",
     "text": [
      "+----------------------+----------------------+\n",
      "| BloodPressure        |   phi(BloodPressure) |\n",
      "+======================+======================+\n",
      "| BloodPressure(50.0)  |               0.0000 |\n",
      "+----------------------+----------------------+\n",
      "| BloodPressure(52.0)  |               0.0370 |\n",
      "+----------------------+----------------------+\n",
      "| BloodPressure(54.0)  |               0.0370 |\n",
      "+----------------------+----------------------+\n",
      "| BloodPressure(56.0)  |               0.0370 |\n",
      "+----------------------+----------------------+\n",
      "| BloodPressure(62.0)  |               0.0000 |\n",
      "+----------------------+----------------------+\n",
      "| BloodPressure(64.0)  |               0.0370 |\n",
      "+----------------------+----------------------+\n",
      "| BloodPressure(66.0)  |               0.0370 |\n",
      "+----------------------+----------------------+\n",
      "| BloodPressure(68.0)  |               0.0741 |\n",
      "+----------------------+----------------------+\n",
      "| BloodPressure(70.0)  |               0.0000 |\n",
      "+----------------------+----------------------+\n",
      "| BloodPressure(72.0)  |               0.1111 |\n",
      "+----------------------+----------------------+\n",
      "| BloodPressure(74.0)  |               0.0000 |\n",
      "+----------------------+----------------------+\n",
      "| BloodPressure(75.0)  |               0.0000 |\n",
      "+----------------------+----------------------+\n",
      "| BloodPressure(76.0)  |               0.0741 |\n",
      "+----------------------+----------------------+\n",
      "| BloodPressure(78.0)  |               0.2222 |\n",
      "+----------------------+----------------------+\n",
      "| BloodPressure(80.0)  |               0.0741 |\n",
      "+----------------------+----------------------+\n",
      "| BloodPressure(82.0)  |               0.0370 |\n",
      "+----------------------+----------------------+\n",
      "| BloodPressure(84.0)  |               0.0370 |\n",
      "+----------------------+----------------------+\n",
      "| BloodPressure(88.0)  |               0.0370 |\n",
      "+----------------------+----------------------+\n",
      "| BloodPressure(90.0)  |               0.0741 |\n",
      "+----------------------+----------------------+\n",
      "| BloodPressure(94.0)  |               0.0000 |\n",
      "+----------------------+----------------------+\n",
      "| BloodPressure(100.0) |               0.0370 |\n",
      "+----------------------+----------------------+\n",
      "| BloodPressure(106.0) |               0.0370 |\n",
      "+----------------------+----------------------+\n"
     ]
    }
   ],
   "source": [
    "print(q2)"
   ]
  },
  {
   "cell_type": "code",
   "execution_count": 17,
   "id": "c245c5e8",
   "metadata": {},
   "outputs": [
    {
     "name": "stdout",
     "output_type": "stream",
     "text": [
      "+----------------------+----------------------+\n",
      "| BloodPressure        |   phi(BloodPressure) |\n",
      "+======================+======================+\n",
      "| BloodPressure(50.0)  |               0.0455 |\n",
      "+----------------------+----------------------+\n",
      "| BloodPressure(52.0)  |               0.0227 |\n",
      "+----------------------+----------------------+\n",
      "| BloodPressure(54.0)  |               0.0455 |\n",
      "+----------------------+----------------------+\n",
      "| BloodPressure(56.0)  |               0.0000 |\n",
      "+----------------------+----------------------+\n",
      "| BloodPressure(62.0)  |               0.1136 |\n",
      "+----------------------+----------------------+\n",
      "| BloodPressure(64.0)  |               0.0455 |\n",
      "+----------------------+----------------------+\n",
      "| BloodPressure(66.0)  |               0.0000 |\n",
      "+----------------------+----------------------+\n",
      "| BloodPressure(68.0)  |               0.0682 |\n",
      "+----------------------+----------------------+\n",
      "| BloodPressure(70.0)  |               0.1818 |\n",
      "+----------------------+----------------------+\n",
      "| BloodPressure(72.0)  |               0.0227 |\n",
      "+----------------------+----------------------+\n",
      "| BloodPressure(74.0)  |               0.0909 |\n",
      "+----------------------+----------------------+\n",
      "| BloodPressure(75.0)  |               0.0455 |\n",
      "+----------------------+----------------------+\n",
      "| BloodPressure(76.0)  |               0.0000 |\n",
      "+----------------------+----------------------+\n",
      "| BloodPressure(78.0)  |               0.0227 |\n",
      "+----------------------+----------------------+\n",
      "| BloodPressure(80.0)  |               0.1136 |\n",
      "+----------------------+----------------------+\n",
      "| BloodPressure(82.0)  |               0.0455 |\n",
      "+----------------------+----------------------+\n",
      "| BloodPressure(84.0)  |               0.0227 |\n",
      "+----------------------+----------------------+\n",
      "| BloodPressure(88.0)  |               0.0455 |\n",
      "+----------------------+----------------------+\n",
      "| BloodPressure(90.0)  |               0.0455 |\n",
      "+----------------------+----------------------+\n",
      "| BloodPressure(94.0)  |               0.0227 |\n",
      "+----------------------+----------------------+\n",
      "| BloodPressure(100.0) |               0.0000 |\n",
      "+----------------------+----------------------+\n",
      "| BloodPressure(106.0) |               0.0000 |\n",
      "+----------------------+----------------------+\n"
     ]
    }
   ],
   "source": [
    "q3=HeartDiseasetest_infer.query(variables=['BloodPressure'],evidence={'Outcome':0})\n",
    "print(q3)"
   ]
  },
  {
   "cell_type": "code",
   "execution_count": 18,
   "id": "3594f09a",
   "metadata": {},
   "outputs": [
    {
     "name": "stdout",
     "output_type": "stream",
     "text": [
      "+--------------------------------+----------------+\n",
      "| Insulin                        |   phi(Insulin) |\n",
      "+================================+================+\n",
      "| Insulin(9.999999717180685e-10) |         0.6296 |\n",
      "+--------------------------------+----------------+\n",
      "| Insulin(45.0)                  |         0.0000 |\n",
      "+--------------------------------+----------------+\n",
      "| Insulin(46.0)                  |         0.0000 |\n",
      "+--------------------------------+----------------+\n",
      "| Insulin(50.0)                  |         0.0000 |\n",
      "+--------------------------------+----------------+\n",
      "| Insulin(53.0)                  |         0.0000 |\n",
      "+--------------------------------+----------------+\n",
      "| Insulin(64.0)                  |         0.0000 |\n",
      "+--------------------------------+----------------+\n",
      "| Insulin(71.0)                  |         0.0000 |\n",
      "+--------------------------------+----------------+\n",
      "| Insulin(78.0)                  |         0.0000 |\n",
      "+--------------------------------+----------------+\n",
      "| Insulin(90.0)                  |         0.0370 |\n",
      "+--------------------------------+----------------+\n",
      "| Insulin(91.0)                  |         0.0370 |\n",
      "+--------------------------------+----------------+\n",
      "| Insulin(94.0)                  |         0.0000 |\n",
      "+--------------------------------+----------------+\n",
      "| Insulin(105.0)                 |         0.0000 |\n",
      "+--------------------------------+----------------+\n",
      "| Insulin(114.0)                 |         0.0370 |\n",
      "+--------------------------------+----------------+\n",
      "| Insulin(126.0)                 |         0.0000 |\n",
      "+--------------------------------+----------------+\n",
      "| Insulin(127.0)                 |         0.0370 |\n",
      "+--------------------------------+----------------+\n",
      "| Insulin(145.0)                 |         0.0000 |\n",
      "+--------------------------------+----------------+\n",
      "| Insulin(155.0)                 |         0.0000 |\n",
      "+--------------------------------+----------------+\n",
      "| Insulin(175.0)                 |         0.0370 |\n",
      "+--------------------------------+----------------+\n",
      "| Insulin(176.0)                 |         0.0000 |\n",
      "+--------------------------------+----------------+\n",
      "| Insulin(180.0)                 |         0.0370 |\n",
      "+--------------------------------+----------------+\n",
      "| Insulin(185.0)                 |         0.0370 |\n",
      "+--------------------------------+----------------+\n",
      "| Insulin(191.0)                 |         0.0370 |\n",
      "+--------------------------------+----------------+\n",
      "| Insulin(200.0)                 |         0.0000 |\n",
      "+--------------------------------+----------------+\n",
      "| Insulin(204.0)                 |         0.0000 |\n",
      "+--------------------------------+----------------+\n",
      "| Insulin(231.0)                 |         0.0370 |\n",
      "+--------------------------------+----------------+\n",
      "| Insulin(277.0)                 |         0.0370 |\n",
      "+--------------------------------+----------------+\n",
      "| Insulin(278.0)                 |         0.0000 |\n",
      "+--------------------------------+----------------+\n",
      "| Insulin(284.0)                 |         0.0000 |\n",
      "+--------------------------------+----------------+\n",
      "| Insulin(285.0)                 |         0.0000 |\n",
      "+--------------------------------+----------------+\n",
      "| Insulin(310.0)                 |         0.0000 |\n",
      "+--------------------------------+----------------+\n",
      "| Insulin(375.0)                 |         0.0000 |\n",
      "+--------------------------------+----------------+\n",
      "| Insulin(744.0)                 |         0.0000 |\n",
      "+--------------------------------+----------------+\n"
     ]
    }
   ],
   "source": [
    "q4=HeartDiseasetest_infer.query(variables=['Insulin'],evidence={'Outcome':1})\n",
    "print(q4)"
   ]
  },
  {
   "cell_type": "code",
   "execution_count": 19,
   "id": "0040d96c",
   "metadata": {},
   "outputs": [
    {
     "name": "stdout",
     "output_type": "stream",
     "text": [
      "+------------+----------------+\n",
      "| Outcome    |   phi(Outcome) |\n",
      "+============+================+\n",
      "| Outcome(0) |         0.5000 |\n",
      "+------------+----------------+\n",
      "| Outcome(1) |         0.5000 |\n",
      "+------------+----------------+\n"
     ]
    }
   ],
   "source": [
    "q5=HeartDiseasetest_infer.query(variables=['Outcome'],evidence={'Glucose':117})\n",
    "print(q5)"
   ]
  },
  {
   "cell_type": "code",
   "execution_count": null,
   "id": "052923e3",
   "metadata": {},
   "outputs": [],
   "source": []
  }
 ],
 "metadata": {
  "kernelspec": {
   "display_name": "Python 3 (ipykernel)",
   "language": "python",
   "name": "python3"
  },
  "language_info": {
   "codemirror_mode": {
    "name": "ipython",
    "version": 3
   },
   "file_extension": ".py",
   "mimetype": "text/x-python",
   "name": "python",
   "nbconvert_exporter": "python",
   "pygments_lexer": "ipython3",
   "version": "3.11.5"
  }
 },
 "nbformat": 4,
 "nbformat_minor": 5
}
